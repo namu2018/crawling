{
 "cells": [
  {
   "cell_type": "code",
   "execution_count": 1,
   "metadata": {},
   "outputs": [
    {
     "data": {
      "text/plain": [
       "'C:\\\\Users\\\\ktm\\\\Documents\\\\Python\\\\classBasic\\\\web'"
      ]
     },
     "execution_count": 1,
     "metadata": {},
     "output_type": "execute_result"
    }
   ],
   "source": [
    "from selenium import webdriver\n",
    "import os\n",
    "os.getcwd()"
   ]
  },
  {
   "cell_type": "code",
   "execution_count": 7,
   "metadata": {},
   "outputs": [],
   "source": [
    "driver = webdriver.Chrome(\"chromedriver\")\n",
    "# driver.get(\"https://www.naver.com\")\n",
    "# url : http://www.opinet.co.kr/searRgSelect.do\n",
    "# 주소가 길것을 google의 줄임기능을 이용해서 줄임.\n",
    "driver.get(\"https://goo.gl/VH1A5t\")"
   ]
  },
  {
   "cell_type": "code",
   "execution_count": 9,
   "metadata": {},
   "outputs": [],
   "source": [
    "gu_list_ele = driver.find_element_by_xpath('//*[@id=\"SIGUNGU_NM0\"]')\n",
    "gu_list_ele.send_keys(\"마포구\")"
   ]
  },
  {
   "cell_type": "code",
   "execution_count": 17,
   "metadata": {},
   "outputs": [
    {
     "data": {
      "text/plain": [
       "['강남구',\n",
       " '강동구',\n",
       " '강북구',\n",
       " '강서구',\n",
       " '관악구',\n",
       " '광진구',\n",
       " '구로구',\n",
       " '금천구',\n",
       " '노원구',\n",
       " '도봉구',\n",
       " '동대문구',\n",
       " '동작구',\n",
       " '마포구',\n",
       " '서대문구',\n",
       " '서초구',\n",
       " '성동구',\n",
       " '성북구',\n",
       " '송파구',\n",
       " '양천구',\n",
       " '영등포구',\n",
       " '용산구',\n",
       " '은평구',\n",
       " '종로구',\n",
       " '중구',\n",
       " '중랑구']"
      ]
     },
     "execution_count": 17,
     "metadata": {},
     "output_type": "execute_result"
    }
   ],
   "source": [
    "gu_list_ele = driver.find_element_by_xpath('//*[@id=\"SIGUNGU_NM0\"]')\n",
    "gu_list = gu_list_ele.find_elements_by_tag_name(\"option\")\n",
    "gu_names = [option.get_attribute(\"value\") for option in gu_list]\n",
    "gu_names.remove('')   # 공백제거\n",
    "gu_names"
   ]
  },
  {
   "cell_type": "code",
   "execution_count": 18,
   "metadata": {},
   "outputs": [
    {
     "data": {
      "text/plain": [
       "'강동구'"
      ]
     },
     "execution_count": 18,
     "metadata": {},
     "output_type": "execute_result"
    }
   ],
   "source": [
    "gu_names[1]"
   ]
  },
  {
   "cell_type": "code",
   "execution_count": 19,
   "metadata": {},
   "outputs": [],
   "source": [
    "## 강동구 변경\n",
    "gu_list_ele = driver.find_element_by_xpath('//*[@id=\"SIGUNGU_NM0\"]')\n",
    "gu_list_ele.send_keys(gu_names[1])\n",
    "xpath = '//*[@id=\"searRgSelect\"]/span'  # 조회버튼 xpath\n",
    "ele_search = driver.find_element_by_xpath(xpath).click()"
   ]
  },
  {
   "cell_type": "code",
   "execution_count": 22,
   "metadata": {},
   "outputs": [
    {
     "data": {
      "application/vnd.jupyter.widget-view+json": {
       "model_id": "eeb28aca0ee540d4bb358e8694493e28",
       "version_major": 2,
       "version_minor": 0
      },
      "text/plain": [
       "HBox(children=(IntProgress(value=0, max=25), HTML(value='')))"
      ]
     },
     "metadata": {},
     "output_type": "display_data"
    },
    {
     "name": "stdout",
     "output_type": "stream",
     "text": [
      "\n"
     ]
    }
   ],
   "source": [
    "import time\n",
    "from tqdm import tqdm_notebook\n",
    "\n",
    "for gu in tqdm_notebook(gu_names):\n",
    "    ele_gu = driver.find_element_by_xpath('//*[@id=\"SIGUNGU_NM0\"]')\n",
    "    ele_gu.send_keys(gu)\n",
    "    time.sleep(3)  # 3초 휴식 \n",
    "    \n",
    "    xpath = '//*[@id=\"searRgSelect\"]/span'  # 조회버튼 xpath\n",
    "    ele_search = driver.find_element_by_xpath(xpath).click()\n",
    "    time.sleep(1)  # 1초 휴식 \n",
    " \n",
    "    xpath = '//*[@id=\"glopopd_excel\"]/span'  # 엑셀 저장 버튼 \n",
    "    ele_excel = driver.find_element_by_xpath(xpath).click()"
   ]
  },
  {
   "cell_type": "code",
   "execution_count": null,
   "metadata": {},
   "outputs": [],
   "source": []
  }
 ],
 "metadata": {
  "kernelspec": {
   "display_name": "Python 3",
   "language": "python",
   "name": "python3"
  },
  "language_info": {
   "codemirror_mode": {
    "name": "ipython",
    "version": 3
   },
   "file_extension": ".py",
   "mimetype": "text/x-python",
   "name": "python",
   "nbconvert_exporter": "python",
   "pygments_lexer": "ipython3",
   "version": "3.6.5"
  }
 },
 "nbformat": 4,
 "nbformat_minor": 2
}
